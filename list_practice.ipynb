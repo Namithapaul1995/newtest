{
  "nbformat": 4,
  "nbformat_minor": 0,
  "metadata": {
    "colab": {
      "provenance": [],
      "authorship_tag": "ABX9TyPmUkUZtnJfIp319PFZl9nW",
      "include_colab_link": true
    },
    "kernelspec": {
      "name": "python3",
      "display_name": "Python 3"
    },
    "language_info": {
      "name": "python"
    }
  },
  "cells": [
    {
      "cell_type": "markdown",
      "metadata": {
        "id": "view-in-github",
        "colab_type": "text"
      },
      "source": [
        "<a href=\"https://colab.research.google.com/github/Namithapaul1995/newtest/blob/main/list_practice.ipynb\" target=\"_parent\"><img src=\"https://colab.research.google.com/assets/colab-badge.svg\" alt=\"Open In Colab\"/></a>"
      ]
    },
    {
      "cell_type": "markdown",
      "source": [
        "creating a list and accessing by calling index"
      ],
      "metadata": {
        "id": "u-Av2negMJV_"
      }
    },
    {
      "cell_type": "markdown",
      "source": [
        "positive indexing- starting from 0"
      ],
      "metadata": {
        "id": "yXtg7nwXN7VA"
      }
    },
    {
      "cell_type": "code",
      "source": [
        "aida_classlist=[\"Nami\",\"Raj\",\"Faria\",\"Nayeem\",\"Thao\"]\n",
        "print(aida_classlist[0])\n",
        "print(aida_classlist[1])\n",
        "print(aida_classlist[2])\n",
        "print(aida_classlist[3])\n",
        "print(aida_classlist[4])"
      ],
      "metadata": {
        "colab": {
          "base_uri": "https://localhost:8080/"
        },
        "id": "doyXSMKfMTEu",
        "outputId": "65e6f1dc-085c-4444-cdec-9d3a960ff90f"
      },
      "execution_count": null,
      "outputs": [
        {
          "output_type": "stream",
          "name": "stdout",
          "text": [
            "Nami\n",
            "Raj\n",
            "Faria\n",
            "Nayeem\n",
            "Thao\n"
          ]
        }
      ]
    },
    {
      "cell_type": "markdown",
      "source": [
        "nrgative indrxing- starting from -1 ie.,from end"
      ],
      "metadata": {
        "id": "uxPoPZJIOAfK"
      }
    },
    {
      "cell_type": "code",
      "source": [
        "phone_brands=[\"Apple\",\"Lenovo\",\"Realme\",\"Samsung\",\"Motorola\"]\n",
        "print(phone_brands[-3])\n",
        "print(phone_brands[-2])"
      ],
      "metadata": {
        "colab": {
          "base_uri": "https://localhost:8080/"
        },
        "id": "DyOhOCSxNNj_",
        "outputId": "2d8fcdac-fba3-4770-bb0b-d61a1a040cd5"
      },
      "execution_count": null,
      "outputs": [
        {
          "output_type": "stream",
          "name": "stdout",
          "text": [
            "Realme\n",
            "Samsung\n"
          ]
        }
      ]
    },
    {
      "cell_type": "markdown",
      "source": [
        "slicing list"
      ],
      "metadata": {
        "id": "GADoQao5OJ-A"
      }
    },
    {
      "cell_type": "code",
      "source": [
        "phone_brands=[\"Apple\",\"Lenovo\",\"Realme\",\"Samsung\",\"Motorola\"]\n",
        "print(phone_brands[2:4])\n",
        "print(phone_brands[:3])\n",
        "print(phone_brands[2:])\n",
        "print(phone_brands[:5:2])"
      ],
      "metadata": {
        "colab": {
          "base_uri": "https://localhost:8080/"
        },
        "id": "l0b3PtUvOYst",
        "outputId": "4e94ba1b-835b-4c5a-b88c-2cb55e213143"
      },
      "execution_count": null,
      "outputs": [
        {
          "output_type": "stream",
          "name": "stdout",
          "text": [
            "['Realme', 'Samsung']\n",
            "['Apple', 'Lenovo', 'Realme']\n",
            "['Realme', 'Samsung', 'Motorola']\n",
            "['Apple', 'Realme', 'Motorola']\n"
          ]
        }
      ]
    },
    {
      "cell_type": "markdown",
      "source": [
        "replacing list member"
      ],
      "metadata": {
        "id": "J5BEKaMTPuWw"
      }
    },
    {
      "cell_type": "code",
      "source": [
        "aida_classlist[0]=\"Jilu\"\n",
        "print(aida_classlist)"
      ],
      "metadata": {
        "colab": {
          "base_uri": "https://localhost:8080/"
        },
        "id": "GgwJQR-6Pxlg",
        "outputId": "5ed6933b-2731-4813-dcba-11b4b975d1c8"
      },
      "execution_count": null,
      "outputs": [
        {
          "output_type": "stream",
          "name": "stdout",
          "text": [
            "['Jilu', 'Raj', 'Faria', 'Nayeem', 'Thao']\n"
          ]
        }
      ]
    },
    {
      "cell_type": "markdown",
      "source": [
        "for loop"
      ],
      "metadata": {
        "id": "-McoS8-1Q7nW"
      }
    },
    {
      "cell_type": "code",
      "source": [
        "for i in aida_classlist:\n",
        "  print(i)"
      ],
      "metadata": {
        "colab": {
          "base_uri": "https://localhost:8080/"
        },
        "id": "YkqAbICxQamI",
        "outputId": "7ae49f89-3057-4d8e-8c2e-a2b309d8c5c9"
      },
      "execution_count": null,
      "outputs": [
        {
          "output_type": "stream",
          "name": "stdout",
          "text": [
            "Jilu\n",
            "Raj\n",
            "Faria\n",
            "Nayeem\n",
            "Thao\n"
          ]
        }
      ]
    },
    {
      "cell_type": "markdown",
      "source": [
        "if-else loop"
      ],
      "metadata": {
        "id": "07tNvu1bQ9WN"
      }
    },
    {
      "cell_type": "code",
      "source": [
        "if \"nami\" in aida_classlist:\n",
        "  print(\"name exists\")\n",
        "else:\n",
        "    print(\"name not exists\")"
      ],
      "metadata": {
        "colab": {
          "base_uri": "https://localhost:8080/"
        },
        "id": "kHldm31xQ__C",
        "outputId": "ab2a8153-52dc-48db-c457-2374c84ba542"
      },
      "execution_count": null,
      "outputs": [
        {
          "output_type": "stream",
          "name": "stdout",
          "text": [
            "name not exists\n"
          ]
        }
      ]
    },
    {
      "cell_type": "markdown",
      "source": [
        "adding new value to the list-appending adds to the end of list"
      ],
      "metadata": {
        "id": "ja3-8eH3R1Ro"
      }
    },
    {
      "cell_type": "code",
      "source": [
        "aida_classlist.append(\"Namitha\")\n",
        "print(aida_classlist)"
      ],
      "metadata": {
        "colab": {
          "base_uri": "https://localhost:8080/"
        },
        "id": "cKimnRikTk0k",
        "outputId": "59b48fff-d460-495c-9a00-60456256a2e9"
      },
      "execution_count": null,
      "outputs": [
        {
          "output_type": "stream",
          "name": "stdout",
          "text": [
            "['Namitha', 'Namitha', 'Jilu', 'Raj', 'Faria', 'Nayeem', 'Thao', 'Namitha', 'Namitha', 'Namitha', 'Namitha', 'Namitha', 'Namitha', 'Namitha']\n"
          ]
        }
      ]
    },
    {
      "cell_type": "markdown",
      "source": [
        "pop, remove, del for deleting either the entire list or elements"
      ],
      "metadata": {
        "id": "QYJ2r6dFVBfv"
      }
    },
    {
      "cell_type": "code",
      "source": [
        "del(aida_classlist[1])\n",
        "print(aida_classlist)\n"
      ],
      "metadata": {
        "colab": {
          "base_uri": "https://localhost:8080/"
        },
        "id": "P1yc3S3YToLn",
        "outputId": "e939c7cc-2e8b-40a7-84e2-42c171c238c7"
      },
      "execution_count": null,
      "outputs": [
        {
          "output_type": "stream",
          "name": "stdout",
          "text": [
            "['Namitha', 'Jilu', 'Raj', 'Faria', 'Nayeem', 'Thao', 'Namitha', 'Namitha', 'Namitha', 'Namitha', 'Namitha', 'Namitha', 'Namitha']\n"
          ]
        }
      ]
    },
    {
      "cell_type": "code",
      "source": [
        "del(aida_classlist[6:13])\n",
        "print(aida_classlist)"
      ],
      "metadata": {
        "colab": {
          "base_uri": "https://localhost:8080/"
        },
        "id": "lU64tZR_UMRf",
        "outputId": "2aa5453c-e6b7-4743-d35b-b48e37324705"
      },
      "execution_count": null,
      "outputs": [
        {
          "output_type": "stream",
          "name": "stdout",
          "text": [
            "['Namitha', 'Jilu', 'Raj', 'Faria', 'Nayeem', 'Thao']\n"
          ]
        }
      ]
    },
    {
      "cell_type": "markdown",
      "source": [
        "copying to another list"
      ],
      "metadata": {
        "id": "WjAjMMQdVV1x"
      }
    },
    {
      "cell_type": "code",
      "source": [
        "aida_row2=aida_classlist.copy()\n",
        "print(aida_row2)"
      ],
      "metadata": {
        "colab": {
          "base_uri": "https://localhost:8080/"
        },
        "id": "qLR1U5EOVZk9",
        "outputId": "0ca121d8-4c4e-49bf-c139-a938226b7d39"
      },
      "execution_count": null,
      "outputs": [
        {
          "output_type": "stream",
          "name": "stdout",
          "text": [
            "['Namitha', 'Jilu', 'Raj', 'Faria', 'Nayeem', 'Thao']\n"
          ]
        }
      ]
    },
    {
      "cell_type": "markdown",
      "source": [
        "to extend the list"
      ],
      "metadata": {
        "id": "ck13nXJSVtUZ"
      }
    },
    {
      "cell_type": "code",
      "source": [
        "aida_row1=(\"Chau\", \"Chandhu\",\"Ishit\")\n",
        "aida_row2.extend(aida_row1)\n",
        "print(aida_row2)"
      ],
      "metadata": {
        "colab": {
          "base_uri": "https://localhost:8080/"
        },
        "id": "6JorciWSVvno",
        "outputId": "42026591-6857-4a82-fde9-703609840683"
      },
      "execution_count": null,
      "outputs": [
        {
          "output_type": "stream",
          "name": "stdout",
          "text": [
            "['Namitha', 'Jilu', 'Raj', 'Faria', 'Nayeem', 'Thao', 'Chau', 'Chandhu', 'Ishit']\n"
          ]
        }
      ]
    },
    {
      "cell_type": "code",
      "source": [
        "aida_row2.reverse()\n",
        "print(aida_row2)"
      ],
      "metadata": {
        "colab": {
          "base_uri": "https://localhost:8080/"
        },
        "id": "UPfB5sWaa02S",
        "outputId": "d2604a2e-9cc4-4833-8fe4-100b9e2399ff"
      },
      "execution_count": null,
      "outputs": [
        {
          "output_type": "stream",
          "name": "stdout",
          "text": [
            "['Ishit', 'Chandhu', 'Chau', 'Thao', 'Nayeem', 'Faria', 'Raj', 'Jilu', 'Namitha']\n"
          ]
        }
      ]
    },
    {
      "cell_type": "markdown",
      "source": [
        "ordering in ascending"
      ],
      "metadata": {
        "id": "ZwHniVIHbqED"
      }
    },
    {
      "cell_type": "code",
      "source": [
        "aida_row2.sort(reverse=False)\n",
        "print(aida_row2)"
      ],
      "metadata": {
        "colab": {
          "base_uri": "https://localhost:8080/"
        },
        "id": "AerL4pOJbWUH",
        "outputId": "c697ea40-e2f0-4c99-a711-742b50ea712b"
      },
      "execution_count": null,
      "outputs": [
        {
          "output_type": "stream",
          "name": "stdout",
          "text": [
            "['Chandhu', 'Chau', 'Faria', 'Ishit', 'Jilu', 'Namitha', 'Nayeem', 'Raj', 'Thao']\n"
          ]
        }
      ]
    },
    {
      "cell_type": "code",
      "source": [
        "aida_row2.sort(reverse=True)\n",
        "print(aida_row2)"
      ],
      "metadata": {
        "colab": {
          "base_uri": "https://localhost:8080/"
        },
        "id": "zZ1CSIqebwMQ",
        "outputId": "7a68ed7c-aa45-455f-e6b4-844987e92bc3"
      },
      "execution_count": null,
      "outputs": [
        {
          "output_type": "stream",
          "name": "stdout",
          "text": [
            "['Thao', 'Raj', 'Nayeem', 'Namitha', 'Jilu', 'Ishit', 'Faria', 'Chau', 'Chandhu']\n"
          ]
        }
      ]
    },
    {
      "cell_type": "markdown",
      "source": [
        "adding to list"
      ],
      "metadata": {
        "id": "_uKpQoSccm9e"
      }
    },
    {
      "cell_type": "code",
      "source": [
        "list1=[\"apple\",\"orange\",\"grapes\"]\n",
        "list2=[1,2,3,4]\n",
        "list3=list1+list2\n",
        "print(list3)\n",
        "print(type(list1))\n",
        "print(type(list2))\n",
        "print(type(list3))"
      ],
      "metadata": {
        "colab": {
          "base_uri": "https://localhost:8080/"
        },
        "id": "8DeWUmVMb_iB",
        "outputId": "27e20e84-f259-41aa-c9eb-99d77976ac31"
      },
      "execution_count": null,
      "outputs": [
        {
          "output_type": "stream",
          "name": "stdout",
          "text": [
            "['apple', 'orange', 'grapes', 1, 2, 3, 4]\n",
            "<class 'list'>\n",
            "<class 'list'>\n",
            "<class 'list'>\n"
          ]
        }
      ]
    },
    {
      "cell_type": "markdown",
      "source": [
        "tuple- immutable lists"
      ],
      "metadata": {
        "id": "n_bUJbAwdFdR"
      }
    },
    {
      "cell_type": "code",
      "source": [],
      "metadata": {
        "id": "IvMqSyhMdpSS"
      },
      "execution_count": null,
      "outputs": []
    }
  ]
}